{
 "cells": [
  {
   "cell_type": "code",
   "execution_count": null,
   "id": "12aa50a8",
   "metadata": {
    "vscode": {
     "languageId": "plaintext"
    }
   },
   "outputs": [],
   "source": [
    "# Band-Aid Overlay Program Demo 🩹\n",
    "\n",
    "This notebook demonstrates how the band-aid overlay program works.\n",
    "\n",
    "## Overview\n",
    "\n",
    "This program:\n",
    "1. Detects a person's arm in a photo using MediaPipe Pose detection\n",
    "2. Calculates the optimal position, rotation, and scale for a band-aid\n",
    "3. Overlays a realistic band-aid image that matches the arm's angle\n",
    "4. Displays the before and after comparison\n",
    "\n",
    "## Requirements\n",
    "\n",
    "To use this program with your own photos, you need an image with:\n",
    "- A person clearly visible\n",
    "- At least one arm showing (preferably extended)\n",
    "- Good lighting and contrast\n",
    "- The person facing the camera"
   ]
  },
  {
   "cell_type": "code",
   "execution_count": null,
   "id": "01f811b8",
   "metadata": {},
   "outputs": [],
   "source": [
    "# Import the BandAidPlacer class from the bandaid package\n",
    "from bandaid import BandAidPlacer\n",
    "import cv2\n",
    "import matplotlib.pyplot as plt\n",
    "\n",
    "print(\"✓ Imports successful!\")\n",
    "print(\"✓ Band-aid placer is ready to use\")"
   ]
  },
  {
   "cell_type": "markdown",
   "id": "deb30d00",
   "metadata": {},
   "source": [
    "## How to Use the Program\n",
    "\n",
    "### Option 1: With Your Own Photo\n",
    "\n",
    "```python\n",
    "# Initialize the placer\n",
    "placer = BandAidPlacer('bandaid.png')\n",
    "\n",
    "# Process your image\n",
    "original, result, detected = placer.process_image(\n",
    "    'your_photo.jpg',\n",
    "    arm_side='right',  # or 'left'\n",
    "    show_landmarks=False\n",
    ")\n",
    "\n",
    "# Display results\n",
    "if detected:\n",
    "    placer.display_results(original, result)\n",
    "```\n",
    "\n",
    "### Option 2: Get a Sample Image\n",
    "\n",
    "You can download free stock photos from:\n",
    "- [Unsplash](https://unsplash.com/s/photos/person-arm)\n",
    "- [Pexels](https://www.pexels.com/search/person%20arm/)\n",
    "\n",
    "Save the image as `sample_arm.jpg` in this directory."
   ]
  },
  {
   "cell_type": "markdown",
   "id": "458a4c73",
   "metadata": {},
   "source": [
    "## Example Code\n",
    "\n",
    "Here's how to use the band-aid placer with your image:"
   ]
  },
  {
   "cell_type": "code",
   "execution_count": null,
   "id": "ba0992e9",
   "metadata": {},
   "outputs": [],
   "source": [
    "# Example: Process an image with the band-aid placer\n",
    "# NOTE: This will only work if you have 'sample_arm.jpg' with a person in it\n",
    "\n",
    "import os\n",
    "\n",
    "if os.path.exists('sample_arm.jpg'):\n",
    "    try:\n",
    "        # Initialize the placer\n",
    "        placer = BandAidPlacer('bandaid.png')\n",
    "        print(\"✓ Band-aid placer initialized\")\n",
    "        \n",
    "        # Process the image\n",
    "        original, result, detected = placer.process_image(\n",
    "            'sample_arm.jpg',\n",
    "            arm_side='right',  # Change to 'left' if needed\n",
    "            show_landmarks=False  # Set True to see pose detection points\n",
    "        )\n",
    "        \n",
    "        if detected:\n",
    "            print(\"✓ Arm detected successfully!\")\n",
    "            print(\"✓ Band-aid applied\")\n",
    "            \n",
    "            # Display the results\n",
    "            placer.display_results(original, result, save_path='notebook_result.png')\n",
    "        else:\n",
    "            print(\"✗ No pose detected in the image\")\n",
    "            print(\"  Make sure the image shows a person with visible arms\")\n",
    "            \n",
    "    except Exception as e:\n",
    "        print(f\"Error: {e}\")\n",
    "else:\n",
    "    print(\"⚠ Sample image not found!\")\n",
    "    print(\"\\nTo use this program:\")\n",
    "    print(\"1. Add a photo with a person showing their arm\")\n",
    "    print(\"2. Save it as 'sample_arm.jpg'\")\n",
    "    print(\"3. Re-run this cell\")\n",
    "        \"    print(\\\"\\\\nPlease add a sample image as 'sample_arm.jpg' and run again\\\")\""
   ]
  },
  {
   "cell_type": "markdown",
   "id": "982bb375",
   "metadata": {},
   "source": [
    "## How It Works\n",
    "\n",
    "The program uses several computer vision techniques:\n",
    "\n",
    "### 1. **Pose Detection**\n",
    "- Uses Google's MediaPipe Pose model\n",
    "- Detects 33 body landmarks including shoulders, elbows, and wrists\n",
    "- Works with various poses and angles\n",
    "\n",
    "### 2. **Arm Landmark Extraction**\n",
    "- Identifies shoulder, elbow, and wrist positions\n",
    "- Supports both left and right arms\n",
    "- Calculates forearm position and angle\n",
    "\n",
    "### 3. **Band-Aid Transformation**\n",
    "- **Position**: Places band-aid 40% from elbow to wrist\n",
    "- **Rotation**: Matches the arm's angle\n",
    "- **Scale**: Proportional to arm length in the image\n",
    "\n",
    "### 4. **Image Overlay**\n",
    "- Uses alpha blending for realistic transparency\n",
    "- Handles rotation and scaling smoothly\n",
    "- Ensures band-aid stays within image boundaries\n",
    "\n",
    "## Key Features\n",
    "\n",
    "✅ Automatic arm detection  \n",
    "✅ Natural band-aid placement  \n",
    "✅ Proper scaling and rotation  \n",
    "✅ Side-by-side comparison  \n",
    "✅ Works with various poses"
   ]
  }
 ],
 "metadata": {
  "language_info": {
   "name": "python"
  }
 },
 "nbformat": 4,
 "nbformat_minor": 5
}
